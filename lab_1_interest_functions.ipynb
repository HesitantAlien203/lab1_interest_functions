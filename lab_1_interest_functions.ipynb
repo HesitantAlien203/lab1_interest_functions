{
  "cells": [
    {
      "cell_type": "markdown",
      "metadata": {
        "id": "view-in-github",
        "colab_type": "text"
      },
      "source": [
        "<a href=\"https://colab.research.google.com/github/HesitantAlien203/lab1_interest_functions/blob/master/lab_1_interest_functions.ipynb\" target=\"_parent\"><img src=\"https://colab.research.google.com/assets/colab-badge.svg\" alt=\"Open In Colab\"/></a>"
      ]
    },
    {
      "cell_type": "markdown",
      "metadata": {
        "id": "6aq-Z__fHrhY"
      },
      "source": [
        "## Lab 1 - Compound Interest Functions\n",
        "\n",
        "Below you will find a table of important formulae related to compound interest.  \n",
        "\n",
        "<img src=\"https://www.dummies.com/wp-content/uploads/251689.image0.jpg\" alt=\"image0.jpg\" width=\"400\" height=\"319\">\n",
        "\n",
        "In this lab, you will create functions for each of these using (and documenting) the following workflow.\n",
        "\n",
        "1. Work out the correct answer for a few examples. *Hint* Search for e.g. \"worked out compound interest examples\" on the web.\n",
        "2. Write a `lambda` function and test this function on your test cases.\n",
        "3. Convert the `lambda` function to a `def` statement with an informative doc string that follows the [Google formating rules](https://google.github.io/styleguide/pyguide.html#383-functions-and-methods).\n",
        "4. Write an automated test function (using your previous examples) that will test your `def` statement function each time the code is executed."
      ]
    },
    {
      "cell_type": "markdown",
      "metadata": {
        "id": "ktPinS1THrhZ"
      },
      "source": [
        "#### Problem 1 -- Apply the process to create a simple interest functions."
      ]
    },
    {
      "cell_type": "code",
      "execution_count": 31,
      "metadata": {
        "id": "f8OWT97WHrha"
      },
      "outputs": [],
      "source": [
        "I = lambda p, r, t: p*r*t"
      ]
    },
    {
      "cell_type": "code",
      "source": [
        "I(10000,.075,5)"
      ],
      "metadata": {
        "id": "NDjxNX_xIRig",
        "outputId": "cdef056a-6269-4832-886e-a7579435a5ec",
        "colab": {
          "base_uri": "https://localhost:8080/"
        }
      },
      "execution_count": 40,
      "outputs": [
        {
          "output_type": "execute_result",
          "data": {
            "text/plain": [
              "3750.0"
            ]
          },
          "metadata": {},
          "execution_count": 40
        }
      ]
    },
    {
      "cell_type": "code",
      "source": [
        "def simple_intrest(principal, intrest_rate, time_years):\n",
        "  \"\"\"Calculates the simple intrest\"\"\"\n",
        "  output = principal*intrest_rate*time_years\n",
        "  return output\n",
        "\n",
        "  def test_simple_intrest():\n",
        "    assert simple_intrest(1000, .035, 40) == 1400\n",
        "    assert simple_intrest(10000, .075, 5) == 3750\n",
        "  test_simple_intrest()"
      ],
      "metadata": {
        "id": "Dn4PSiIod6P4"
      },
      "execution_count": 41,
      "outputs": []
    },
    {
      "cell_type": "markdown",
      "metadata": {
        "id": "cWm2tm_xHrhb"
      },
      "source": [
        "#### Problem 2 -- Apply the process to create a compound interest functions."
      ]
    },
    {
      "cell_type": "code",
      "execution_count": 27,
      "metadata": {
        "id": "U4c0HBSTHrhb"
      },
      "outputs": [],
      "source": [
        "\n",
        "C = lambda p, r, n, t: p*((1+(r/n))**(n*t))"
      ]
    },
    {
      "cell_type": "code",
      "source": [
        "C(20000,.07,12,10)"
      ],
      "metadata": {
        "id": "ZA1T35jnI12H",
        "outputId": "32a08384-7633-44f9-d3a0-7743ce21e9a6",
        "colab": {
          "base_uri": "https://localhost:8080/"
        }
      },
      "execution_count": 42,
      "outputs": [
        {
          "output_type": "execute_result",
          "data": {
            "text/plain": [
              "40193.22753391266"
            ]
          },
          "metadata": {},
          "execution_count": 42
        }
      ]
    },
    {
      "cell_type": "code",
      "source": [
        "def compound_intrest(principal, rate, compoundings, years):\n",
        "  \"\"\"Calculates the compound intrest\"\"\"\n",
        "  output = principal*((1+(rate/compoundings))**(compoundings*years))\n",
        "  return output\n",
        "\n",
        "  def test_compound_intrest():\n",
        "    assert compound_intrest(10000,.03875,12,7.5) == 13366.370154434335\n",
        "    assert compound_intrest(20000,.07,12,10) == 40193.22753391266\n",
        "  test_compound_intrest()"
      ],
      "metadata": {
        "id": "4-5S9f-Le_IL"
      },
      "execution_count": 43,
      "outputs": []
    },
    {
      "cell_type": "markdown",
      "metadata": {
        "id": "9i5sSCq1Hrhb"
      },
      "source": [
        "#### Problem 3 -- Apply the process to create a amortized loan payment function."
      ]
    },
    {
      "cell_type": "code",
      "execution_count": 29,
      "metadata": {
        "id": "CedS7bAoHrhb"
      },
      "outputs": [],
      "source": [
        "A = lambda p, i, n: (p*i)/(1-(1+i)**-n)"
      ]
    },
    {
      "cell_type": "code",
      "source": [
        "A(60000,.07,24)"
      ],
      "metadata": {
        "id": "NTqF99VNXMFn",
        "outputId": "f38490dc-195e-4601-9624-4dc0c8f820cb",
        "colab": {
          "base_uri": "https://localhost:8080/"
        }
      },
      "execution_count": 44,
      "outputs": [
        {
          "output_type": "execute_result",
          "data": {
            "text/plain": [
              "5231.341244066426"
            ]
          },
          "metadata": {},
          "execution_count": 44
        }
      ]
    },
    {
      "cell_type": "code",
      "source": [
        "def amortized_loan(ammount_borrowed, rate, number_payments):\n",
        "  \"\"\"Calculates the ammorized loan payment\"\"\"\n",
        "  output = (ammount_borrowed*rate)/(1-(1+rate)**-number_payments)\n",
        "  return output\n",
        "\n",
        "  def test_amortized_loan():\n",
        "    assert amortized_loan(20000,.075,60) == 1519.8283550878352\n",
        "    assert amortized_loan(60000,.07,24) == 5231.341244066426\n",
        "  test_amortized_loan"
      ],
      "metadata": {
        "id": "eRccqErPguEk"
      },
      "execution_count": 45,
      "outputs": []
    },
    {
      "cell_type": "markdown",
      "metadata": {
        "id": "ybydDW9vHrhb"
      },
      "source": [
        "#### Problem 4 -- Apply the process to create a remaining balance function"
      ]
    },
    {
      "cell_type": "code",
      "execution_count": 68,
      "metadata": {
        "id": "2m8VZtDYHrhc"
      },
      "outputs": [],
      "source": [
        "R = lambda r, i, n, x: r*((1-(1+i)**-(n-x))/i)"
      ]
    },
    {
      "cell_type": "code",
      "source": [
        "R(2500,.07,60, 13)"
      ],
      "metadata": {
        "id": "GrlAVXd0anBg",
        "outputId": "0cc2394f-27b0-4cf2-d4c3-c65384afe1e6",
        "colab": {
          "base_uri": "https://localhost:8080/"
        }
      },
      "execution_count": 71,
      "outputs": [
        {
          "output_type": "execute_result",
          "data": {
            "text/plain": [
              "34229.01910570566"
            ]
          },
          "metadata": {},
          "execution_count": 71
        }
      ]
    },
    {
      "cell_type": "code",
      "source": [
        "def remaining_balance(regular_payment, intrest_rate, number_payments, payments_made):\n",
        "  \"\"\"Calculates the ammorized loan payment\"\"\"\n",
        "  output = regular_payment*((1-(1+intrest_rate)**-(number_payments-payments_made))/intrest_rate)\n",
        "  return output\n",
        "\n",
        "  def test_remaining_balance():\n",
        "    assert remaining_balance(1600,.03,16, 13) == 4525.778167831493\n",
        "    assert remaining_balance(2500,.07,60, 13) == 34229.01910570566\n",
        "  test_remaining_balance"
      ],
      "metadata": {
        "id": "N7MlTd7CnZbB"
      },
      "execution_count": 72,
      "outputs": []
    }
  ],
  "metadata": {
    "kernelspec": {
      "display_name": "Python 3",
      "language": "python",
      "name": "python3"
    },
    "language_info": {
      "codemirror_mode": {
        "name": "ipython",
        "version": 3
      },
      "file_extension": ".py",
      "mimetype": "text/x-python",
      "name": "python",
      "nbconvert_exporter": "python",
      "pygments_lexer": "ipython3",
      "version": "3.7.2"
    },
    "colab": {
      "provenance": [],
      "include_colab_link": true
    }
  },
  "nbformat": 4,
  "nbformat_minor": 0
}